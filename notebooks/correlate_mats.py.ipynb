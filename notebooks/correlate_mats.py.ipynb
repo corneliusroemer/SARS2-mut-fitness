{
 "cells": [
  {
   "cell_type": "markdown",
   "id": "c97b1a85-9a90-4899-b7ea-f3bafe9ec27b",
   "metadata": {},
   "source": [
    "# Correlate results from different mutation-annotated trees"
   ]
  },
  {
   "cell_type": "markdown",
   "id": "e9ab9b33-374c-4ebb-a41d-854a3fef5c39",
   "metadata": {},
   "source": [
    "Get variables from `snakemake`:"
   ]
  },
  {
   "cell_type": "code",
   "execution_count": null,
   "id": "cd5b83f1-87fc-474f-b83d-767a2e38621d",
   "metadata": {
    "tags": []
   },
   "outputs": [],
   "source": [
    "aa_fitness_csvs = snakemake.input.aa_fitnesses\n",
    "mats = snakemake.params.mats\n",
    "min_expected_count = snakemake.params.min_expected_count\n",
    "fitness_corr_chart_html = snakemake.output.fitness_corrs_chart"
   ]
  },
  {
   "cell_type": "markdown",
   "id": "398b5d8a-a1e3-4fdb-bed9-85f94b9b7f34",
   "metadata": {},
   "source": [
    "Import Python modules:"
   ]
  },
  {
   "cell_type": "code",
   "execution_count": null,
   "id": "f5ad519b-1777-4d7f-99c7-f3c15f4a987e",
   "metadata": {
    "tags": []
   },
   "outputs": [],
   "source": [
    "import altair as alt\n",
    "\n",
    "import itertools\n",
    "\n",
    "import pandas as pd\n",
    "\n",
    "_ = alt.data_transformers.disable_max_rows()"
   ]
  },
  {
   "cell_type": "markdown",
   "id": "734c4200-4243-4816-93f4-6a89ba670379",
   "metadata": {},
   "source": [
    "Read data:"
   ]
  },
  {
   "cell_type": "code",
   "execution_count": null,
   "id": "6d5cd843-bf71-481b-b214-b7d8a22d05da",
   "metadata": {
    "tags": []
   },
   "outputs": [],
   "source": [
    "assert len(mats) == len(aa_fitness_csvs)\n",
    "\n",
    "aa_fitness = (\n",
    "    pd.concat(\n",
    "        [\n",
    "            pd.read_csv(aa_fitness_csv).assign(dataset=mat)\n",
    "            for aa_fitness_csv, mat in zip(aa_fitness_csvs, mats)\n",
    "        ],\n",
    "        ignore_index=True,\n",
    "    )\n",
    "    .query(\"gene != 'ORF1ab'\")\n",
    "    .drop(columns=[\"aa_differs_among_clade_founders\", \"subset_of_ORF1ab\"])\n",
    ")\n",
    "\n",
    "aa_fitness"
   ]
  },
  {
   "cell_type": "markdown",
   "id": "e3ebe2f4-38e1-4c6c-b56e-23f5ec7879ea",
   "metadata": {},
   "source": [
    "Make the chart:"
   ]
  },
  {
   "cell_type": "code",
   "execution_count": null,
   "id": "58af1e3c-ec6a-42ee-9586-c68821483f8a",
   "metadata": {
    "tags": []
   },
   "outputs": [],
   "source": [
    "expected_count_selection = alt.selection_single(\n",
    "    bind=alt.binding_range(\n",
    "        min=1,\n",
    "        max=min(5 * min_expected_count, aa_fitness[\"expected_count\"].quantile(0.9)),\n",
    "        step=1,\n",
    "        name=\"minimum expected count\",\n",
    "    ),\n",
    "    fields=[\"cutoff\"],\n",
    "    init={\"cutoff\": min_expected_count},\n",
    ")\n",
    "\n",
    "chart_base = (\n",
    "    alt.Chart(aa_fitness)\n",
    "    .transform_filter(alt.datum[\"expected_count\"] >= expected_count_selection[\"cutoff\"])\n",
    "    .transform_pivot(\n",
    "        groupby=[\"gene\", \"aa_site\", \"aa\"],\n",
    "        pivot=\"dataset\",\n",
    "        value=\"fitness\",\n",
    "        op=\"mean\",\n",
    "    )\n",
    ")\n",
    "\n",
    "corr_charts = []\n",
    "for dataset1, dataset2 in itertools.combinations(aa_fitness[\"dataset\"].unique(), 2):\n",
    "    corr_chart = (\n",
    "        chart_base\n",
    "        .encode(\n",
    "            x=alt.X(dataset1, type=\"quantitative\"),\n",
    "            y=alt.Y(dataset2, type=\"quantitative\"),\n",
    "            tooltip=[\n",
    "                \"gene\",\n",
    "                \"aa_site\",\n",
    "                \"aa\",\n",
    "                alt.Tooltip(dataset1, type=\"quantitative\", format=\".3g\"),\n",
    "                alt.Tooltip(dataset2, type=\"quantitative\", format=\".3g\"),\n",
    "            ],\n",
    "        )\n",
    "        .mark_circle(opacity=0.15)\n",
    "        .properties(width=180, height=180)\n",
    "    )\n",
    "    \n",
    "    # regression line and correlation coefficient: https://stackoverflow.com/a/60239699\n",
    "    line = (\n",
    "        corr_chart\n",
    "        .transform_regression(dataset1, dataset2)\n",
    "        .mark_line(color=\"orange\", clip=True)\n",
    "    )\n",
    "    params_r = (\n",
    "        corr_chart\n",
    "        .transform_regression(dataset1, dataset2, params=True)\n",
    "        .transform_calculate(\n",
    "            r=alt.expr.sqrt(alt.datum[\"rSquared\"]),\n",
    "            label='\"r = \" + format(datum.r, \".3f\")',\n",
    "        )\n",
    "        .mark_text(align=\"left\", color=\"orange\", fontWeight=\"bold\")\n",
    "        .encode(\n",
    "            x=alt.value(5),\n",
    "            y=alt.value(8),\n",
    "            text=alt.Text(\"label:N\"),\n",
    "        )\n",
    "    )\n",
    "    \n",
    "    corr_charts.append(corr_chart + line + params_r)\n",
    "\n",
    "ncol = 3\n",
    "\n",
    "chart = (\n",
    "    alt.vconcat(\n",
    "        *[\n",
    "            alt.hconcat(*corr_charts[i : i + ncol])\n",
    "            for i in range(0, len(corr_charts), ncol)\n",
    "        ]\n",
    "    )\n",
    "    .add_selection(expected_count_selection)\n",
    "    .configure_axis(grid=False)\n",
    ")\n",
    "\n",
    "chart.save(fitness_corr_chart_html)\n",
    "\n",
    "chart"
   ]
  },
  {
   "cell_type": "code",
   "execution_count": null,
   "id": "abf4b59c-d761-4be9-a03b-4e1911d0e931",
   "metadata": {},
   "outputs": [],
   "source": []
  }
 ],
 "metadata": {
  "kernelspec": {
   "display_name": "Python 3 (ipykernel)",
   "language": "python",
   "name": "python3"
  },
  "language_info": {
   "codemirror_mode": {
    "name": "ipython",
    "version": 3
   },
   "file_extension": ".py",
   "mimetype": "text/x-python",
   "name": "python",
   "nbconvert_exporter": "python",
   "pygments_lexer": "ipython3",
   "version": "3.9.15"
  }
 },
 "nbformat": 4,
 "nbformat_minor": 5
}
