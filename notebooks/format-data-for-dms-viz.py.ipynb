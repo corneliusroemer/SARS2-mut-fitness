{
 "cells": [
  {
   "cell_type": "code",
   "execution_count": 16,
   "id": "0a24e495",
   "metadata": {},
   "outputs": [],
   "source": [
    "import os\n",
    "import Bio.PDB\n",
    "from Bio.SeqUtils import seq1\n",
    "import pandas as pd\n",
    "import requests\n",
    "import warnings\n",
    "from io import StringIO"
   ]
  },
  {
   "cell_type": "markdown",
   "id": "bb234578",
   "metadata": {},
   "source": [
    "# Format variant effects for visualization\n",
    "\n",
    "In this notebook I prepare and format the predicted variant fitness of SARS-CoV-2 mutants in every gene for [dms-viz](https://dms-viz.github.io/)."
   ]
  },
  {
   "cell_type": "code",
   "execution_count": 17,
   "id": "e6bcb907",
   "metadata": {},
   "outputs": [],
   "source": [
    "# Snakemake\n",
    "if \"snakemake\" in locals() or \"snakemake\" in globals():\n",
    "    fitness_effects = snakemake.input.aa_fitness\n",
    "    wildtype_residues = snakemake.input.clade_founder_aas\n",
    "    structure_info = snakemake.input.structure_info\n",
    "    output_dir = snakemake.output.outdir\n",
    "# Interactive \n",
    "else:\n",
    "    fitness_effects = \"../results/aa_fitness/aa_fitness.csv\"\n",
    "    wildtype_residues = \"../results/clade_founder_nts/clade_founder_aas.csv\"\n",
    "    structure_info = \"../data/proteins.csv\"\n",
    "    output_dir = \"../results/dms-viz/\"\n",
    "    os.makedirs(output_dir, exist_ok=True)\n",
    "    "
   ]
  },
  {
   "cell_type": "markdown",
   "id": "95f70713",
   "metadata": {},
   "source": [
    "Get the fitness effects for all SARS-CoV-2 genes."
   ]
  },
  {
   "cell_type": "code",
   "execution_count": 18,
   "id": "650ffbcd",
   "metadata": {},
   "outputs": [
    {
     "data": {
      "text/html": [
       "<div>\n",
       "<style scoped>\n",
       "    .dataframe tbody tr th:only-of-type {\n",
       "        vertical-align: middle;\n",
       "    }\n",
       "\n",
       "    .dataframe tbody tr th {\n",
       "        vertical-align: top;\n",
       "    }\n",
       "\n",
       "    .dataframe thead th {\n",
       "        text-align: right;\n",
       "    }\n",
       "</style>\n",
       "<table border=\"1\" class=\"dataframe\">\n",
       "  <thead>\n",
       "    <tr style=\"text-align: right;\">\n",
       "      <th></th>\n",
       "      <th>gene</th>\n",
       "      <th>site</th>\n",
       "      <th>mutant</th>\n",
       "      <th>fitness</th>\n",
       "      <th>expected_count</th>\n",
       "    </tr>\n",
       "  </thead>\n",
       "  <tbody>\n",
       "    <tr>\n",
       "      <th>0</th>\n",
       "      <td>E</td>\n",
       "      <td>1</td>\n",
       "      <td>I</td>\n",
       "      <td>-6.9330</td>\n",
       "      <td>512.2900</td>\n",
       "    </tr>\n",
       "    <tr>\n",
       "      <th>1</th>\n",
       "      <td>E</td>\n",
       "      <td>1</td>\n",
       "      <td>K</td>\n",
       "      <td>-3.3793</td>\n",
       "      <td>14.1760</td>\n",
       "    </tr>\n",
       "    <tr>\n",
       "      <th>2</th>\n",
       "      <td>E</td>\n",
       "      <td>1</td>\n",
       "      <td>L</td>\n",
       "      <td>-4.0995</td>\n",
       "      <td>29.6550</td>\n",
       "    </tr>\n",
       "    <tr>\n",
       "      <th>3</th>\n",
       "      <td>E</td>\n",
       "      <td>1</td>\n",
       "      <td>M</td>\n",
       "      <td>0.0000</td>\n",
       "      <td>705.3500</td>\n",
       "    </tr>\n",
       "    <tr>\n",
       "      <th>4</th>\n",
       "      <td>E</td>\n",
       "      <td>1</td>\n",
       "      <td>R</td>\n",
       "      <td>-2.9282</td>\n",
       "      <td>8.8466</td>\n",
       "    </tr>\n",
       "  </tbody>\n",
       "</table>\n",
       "</div>"
      ],
      "text/plain": [
       "  gene  site mutant  fitness  expected_count\n",
       "0    E     1      I  -6.9330        512.2900\n",
       "1    E     1      K  -3.3793         14.1760\n",
       "2    E     1      L  -4.0995         29.6550\n",
       "3    E     1      M   0.0000        705.3500\n",
       "4    E     1      R  -2.9282          8.8466"
      ]
     },
     "execution_count": 18,
     "metadata": {},
     "output_type": "execute_result"
    }
   ],
   "source": [
    "# Fitness effects for all genes\n",
    "all_gene_fitness_df = (\n",
    "    pd.read_csv(fitness_effects)\n",
    "    .rename(columns={'aa_site': 'site', 'aa': 'mutant'})\n",
    "    .drop(columns=['aa_differs_among_clade_founders', 'subset_of_ORF1ab'])\n",
    ")\n",
    "\n",
    "all_gene_fitness_df.head()"
   ]
  },
  {
   "cell_type": "markdown",
   "id": "f581f99b",
   "metadata": {},
   "source": [
    "Get the 'wildtype' residues which correspond to clade 19A."
   ]
  },
  {
   "cell_type": "code",
   "execution_count": 19,
   "id": "56a33bb0",
   "metadata": {},
   "outputs": [
    {
     "data": {
      "text/html": [
       "<div>\n",
       "<style scoped>\n",
       "    .dataframe tbody tr th:only-of-type {\n",
       "        vertical-align: middle;\n",
       "    }\n",
       "\n",
       "    .dataframe tbody tr th {\n",
       "        vertical-align: top;\n",
       "    }\n",
       "\n",
       "    .dataframe thead th {\n",
       "        text-align: right;\n",
       "    }\n",
       "</style>\n",
       "<table border=\"1\" class=\"dataframe\">\n",
       "  <thead>\n",
       "    <tr style=\"text-align: right;\">\n",
       "      <th></th>\n",
       "      <th>gene</th>\n",
       "      <th>site</th>\n",
       "      <th>wildtype</th>\n",
       "    </tr>\n",
       "  </thead>\n",
       "  <tbody>\n",
       "    <tr>\n",
       "      <th>0</th>\n",
       "      <td>E</td>\n",
       "      <td>1</td>\n",
       "      <td>M</td>\n",
       "    </tr>\n",
       "    <tr>\n",
       "      <th>1</th>\n",
       "      <td>E</td>\n",
       "      <td>2</td>\n",
       "      <td>Y</td>\n",
       "    </tr>\n",
       "    <tr>\n",
       "      <th>2</th>\n",
       "      <td>E</td>\n",
       "      <td>3</td>\n",
       "      <td>S</td>\n",
       "    </tr>\n",
       "    <tr>\n",
       "      <th>3</th>\n",
       "      <td>E</td>\n",
       "      <td>4</td>\n",
       "      <td>F</td>\n",
       "    </tr>\n",
       "    <tr>\n",
       "      <th>4</th>\n",
       "      <td>E</td>\n",
       "      <td>5</td>\n",
       "      <td>V</td>\n",
       "    </tr>\n",
       "    <tr>\n",
       "      <th>...</th>\n",
       "      <td>...</td>\n",
       "      <td>...</td>\n",
       "      <td>...</td>\n",
       "    </tr>\n",
       "    <tr>\n",
       "      <th>16932</th>\n",
       "      <td>nsp9</td>\n",
       "      <td>109</td>\n",
       "      <td>T</td>\n",
       "    </tr>\n",
       "    <tr>\n",
       "      <th>16933</th>\n",
       "      <td>nsp9</td>\n",
       "      <td>110</td>\n",
       "      <td>V</td>\n",
       "    </tr>\n",
       "    <tr>\n",
       "      <th>16934</th>\n",
       "      <td>nsp9</td>\n",
       "      <td>111</td>\n",
       "      <td>R</td>\n",
       "    </tr>\n",
       "    <tr>\n",
       "      <th>16935</th>\n",
       "      <td>nsp9</td>\n",
       "      <td>112</td>\n",
       "      <td>L</td>\n",
       "    </tr>\n",
       "    <tr>\n",
       "      <th>16936</th>\n",
       "      <td>nsp9</td>\n",
       "      <td>113</td>\n",
       "      <td>Q</td>\n",
       "    </tr>\n",
       "  </tbody>\n",
       "</table>\n",
       "<p>16937 rows × 3 columns</p>\n",
       "</div>"
      ],
      "text/plain": [
       "       gene  site wildtype\n",
       "0         E     1        M\n",
       "1         E     2        Y\n",
       "2         E     3        S\n",
       "3         E     4        F\n",
       "4         E     5        V\n",
       "...     ...   ...      ...\n",
       "16932  nsp9   109        T\n",
       "16933  nsp9   110        V\n",
       "16934  nsp9   111        R\n",
       "16935  nsp9   112        L\n",
       "16936  nsp9   113        Q\n",
       "\n",
       "[16937 rows x 3 columns]"
      ]
     },
     "execution_count": 19,
     "metadata": {},
     "output_type": "execute_result"
    }
   ],
   "source": [
    "# 'Wildtype' amino acids from clade 19A ancestor\n",
    "wildtype_aa_df = (\n",
    "    pd.read_csv(wildtype_residues)\n",
    "        .query(\"clade == '19A (B)'\")[['gene', 'site', 'amino acid']]\n",
    "        .rename(columns={'amino acid': 'wildtype'})\n",
    "        .drop_duplicates()\n",
    "        .sort_values(['gene', 'site'])\n",
    "        .reset_index(drop=True)\n",
    ")\n",
    "wildtype_aa_df"
   ]
  },
  {
   "cell_type": "markdown",
   "id": "d275a0aa",
   "metadata": {},
   "source": [
    "Join the wildtype with the fitness data."
   ]
  },
  {
   "cell_type": "code",
   "execution_count": 20,
   "id": "cfea41ed",
   "metadata": {},
   "outputs": [
    {
     "data": {
      "text/html": [
       "<div>\n",
       "<style scoped>\n",
       "    .dataframe tbody tr th:only-of-type {\n",
       "        vertical-align: middle;\n",
       "    }\n",
       "\n",
       "    .dataframe tbody tr th {\n",
       "        vertical-align: top;\n",
       "    }\n",
       "\n",
       "    .dataframe thead th {\n",
       "        text-align: right;\n",
       "    }\n",
       "</style>\n",
       "<table border=\"1\" class=\"dataframe\">\n",
       "  <thead>\n",
       "    <tr style=\"text-align: right;\">\n",
       "      <th></th>\n",
       "      <th>gene</th>\n",
       "      <th>site</th>\n",
       "      <th>mutant</th>\n",
       "      <th>fitness</th>\n",
       "      <th>expected_count</th>\n",
       "      <th>wildtype</th>\n",
       "    </tr>\n",
       "  </thead>\n",
       "  <tbody>\n",
       "    <tr>\n",
       "      <th>0</th>\n",
       "      <td>E</td>\n",
       "      <td>1</td>\n",
       "      <td>I</td>\n",
       "      <td>-6.9330</td>\n",
       "      <td>512.2900</td>\n",
       "      <td>M</td>\n",
       "    </tr>\n",
       "    <tr>\n",
       "      <th>1</th>\n",
       "      <td>E</td>\n",
       "      <td>1</td>\n",
       "      <td>K</td>\n",
       "      <td>-3.3793</td>\n",
       "      <td>14.1760</td>\n",
       "      <td>M</td>\n",
       "    </tr>\n",
       "    <tr>\n",
       "      <th>2</th>\n",
       "      <td>E</td>\n",
       "      <td>1</td>\n",
       "      <td>L</td>\n",
       "      <td>-4.0995</td>\n",
       "      <td>29.6550</td>\n",
       "      <td>M</td>\n",
       "    </tr>\n",
       "    <tr>\n",
       "      <th>3</th>\n",
       "      <td>E</td>\n",
       "      <td>1</td>\n",
       "      <td>M</td>\n",
       "      <td>0.0000</td>\n",
       "      <td>705.3500</td>\n",
       "      <td>M</td>\n",
       "    </tr>\n",
       "    <tr>\n",
       "      <th>4</th>\n",
       "      <td>E</td>\n",
       "      <td>1</td>\n",
       "      <td>R</td>\n",
       "      <td>-2.9282</td>\n",
       "      <td>8.8466</td>\n",
       "      <td>M</td>\n",
       "    </tr>\n",
       "    <tr>\n",
       "      <th>...</th>\n",
       "      <td>...</td>\n",
       "      <td>...</td>\n",
       "      <td>...</td>\n",
       "      <td>...</td>\n",
       "      <td>...</td>\n",
       "      <td>...</td>\n",
       "    </tr>\n",
       "    <tr>\n",
       "      <th>121855</th>\n",
       "      <td>nsp9</td>\n",
       "      <td>113</td>\n",
       "      <td>K</td>\n",
       "      <td>-4.3772</td>\n",
       "      <td>39.3080</td>\n",
       "      <td>Q</td>\n",
       "    </tr>\n",
       "    <tr>\n",
       "      <th>121856</th>\n",
       "      <td>nsp9</td>\n",
       "      <td>113</td>\n",
       "      <td>L</td>\n",
       "      <td>-2.6445</td>\n",
       "      <td>20.6140</td>\n",
       "      <td>Q</td>\n",
       "    </tr>\n",
       "    <tr>\n",
       "      <th>121857</th>\n",
       "      <td>nsp9</td>\n",
       "      <td>113</td>\n",
       "      <td>P</td>\n",
       "      <td>-2.9487</td>\n",
       "      <td>9.0407</td>\n",
       "      <td>Q</td>\n",
       "    </tr>\n",
       "    <tr>\n",
       "      <th>121858</th>\n",
       "      <td>nsp9</td>\n",
       "      <td>113</td>\n",
       "      <td>Q</td>\n",
       "      <td>0.0000</td>\n",
       "      <td>760.0600</td>\n",
       "      <td>Q</td>\n",
       "    </tr>\n",
       "    <tr>\n",
       "      <th>121859</th>\n",
       "      <td>nsp9</td>\n",
       "      <td>113</td>\n",
       "      <td>R</td>\n",
       "      <td>-4.9983</td>\n",
       "      <td>73.5810</td>\n",
       "      <td>Q</td>\n",
       "    </tr>\n",
       "  </tbody>\n",
       "</table>\n",
       "<p>121860 rows × 6 columns</p>\n",
       "</div>"
      ],
      "text/plain": [
       "        gene  site mutant  fitness  expected_count wildtype\n",
       "0          E     1      I  -6.9330        512.2900        M\n",
       "1          E     1      K  -3.3793         14.1760        M\n",
       "2          E     1      L  -4.0995         29.6550        M\n",
       "3          E     1      M   0.0000        705.3500        M\n",
       "4          E     1      R  -2.9282          8.8466        M\n",
       "...      ...   ...    ...      ...             ...      ...\n",
       "121855  nsp9   113      K  -4.3772         39.3080        Q\n",
       "121856  nsp9   113      L  -2.6445         20.6140        Q\n",
       "121857  nsp9   113      P  -2.9487          9.0407        Q\n",
       "121858  nsp9   113      Q   0.0000        760.0600        Q\n",
       "121859  nsp9   113      R  -4.9983         73.5810        Q\n",
       "\n",
       "[121860 rows x 6 columns]"
      ]
     },
     "execution_count": 20,
     "metadata": {},
     "output_type": "execute_result"
    }
   ],
   "source": [
    "# Join the wildtype amino acids to the mutation effect data\n",
    "gene_fitness_df = (all_gene_fitness_df\n",
    "                   .merge(wildtype_aa_df, how='left', on=['gene', 'site'])\n",
    "                  )\n",
    "gene_fitness_df"
   ]
  },
  {
   "cell_type": "markdown",
   "id": "55bd92bc",
   "metadata": {},
   "source": [
    "Make a separate fitness dataset for each experiment."
   ]
  },
  {
   "cell_type": "code",
   "execution_count": 21,
   "id": "0f3b25ed",
   "metadata": {},
   "outputs": [],
   "source": [
    "# Loop through each gene and save as a separate 'experiment'\n",
    "for gene, df in gene_fitness_df.groupby('gene'):\n",
    "    # Drop the gene columns   \n",
    "    df.drop(columns=['gene'], inplace = True)\n",
    "    # Make the 'sitemap'\n",
    "    sitemap = (df[['site']]\n",
    "               .drop_duplicates()\n",
    "               .reset_index(drop=True)\n",
    "               .rename(columns={'site': 'reference_site'})\n",
    "               .sort_values(['reference_site'])\n",
    "              )\n",
    "    sitemap['sequential_site'] = sitemap.index + 1\n",
    "    # Save the data frames for each gene\n",
    "    gene_dir = os.path.join(output_dir, gene)\n",
    "    os.makedirs(gene_dir, exist_ok=True)\n",
    "    df.to_csv(os.path.join(gene_dir, f'{gene}_fitness.csv'), index=False)\n",
    "    sitemap.to_csv(os.path.join(gene_dir, f'{gene}_sitemap.csv'), index=False)\n",
    "    "
   ]
  },
  {
   "cell_type": "markdown",
   "id": "9a7a8907",
   "metadata": {},
   "source": [
    "## Align the structures\n",
    "\n",
    "Not all avaliable structures are aligned with the reference sequence. These are the offending structures and how they are off from the index of the reference sequence.\n",
    "\n",
    "- E: Position 1 is equivalent to position 8 in the data\n",
    "- nsp1: Position 5 is equivalent to position 15 in the data\n",
    "- nsp3: Position 1 is equivalent to position 746 in the data\n",
    "- nsp15: Position 2 is equivalent to position 1 in the data\n",
    "- nsp16: Position 6799 is equivalent to position 1 in the data"
   ]
  },
  {
   "cell_type": "code",
   "execution_count": 22,
   "id": "e1c2afe4",
   "metadata": {},
   "outputs": [],
   "source": [
    "# Get the data for each protein \n",
    "proteins = {gene: pd.read_csv(os.path.join(output_dir, gene, f\"{gene}_fitness.csv\")) for\n",
    "            gene in\n",
    "            [f.name for f in os.scandir(output_dir) if f.is_dir()]}\n",
    "# Get the PDB structures for each protein\n",
    "structures_df = pd.read_csv(structure_info)\n",
    "structures = dict(zip(structures_df['selection'], structures_df['pdb']))"
   ]
  },
  {
   "cell_type": "code",
   "execution_count": 23,
   "id": "c9f1ec5e",
   "metadata": {},
   "outputs": [],
   "source": [
    "def get_structure(pdb_input):\n",
    "    \"\"\"\n",
    "    Fetch a PDB structure from the RCSB PDB web service or load it from a local file.\n",
    "\n",
    "    This function takes a string as input, which should either be a 4-character PDB ID or\n",
    "    a path to a local PDB file. The function fetches the structure with the specified PDB ID\n",
    "    from the RCSB PDB web service, or reads the structure from the specified local PDB file,\n",
    "    and returns a Bio.PDB structure object.\n",
    "\n",
    "    Parameters\n",
    "    ----------\n",
    "    pdb_input : str\n",
    "        A string that is either a 4-character PDB ID or a path to a local .pdb file.\n",
    "\n",
    "    Returns\n",
    "    -------\n",
    "    structure : Bio.PDB.Structure.Structure\n",
    "        A Bio.PDB structure object.\n",
    "\n",
    "    Raises\n",
    "    ------\n",
    "    ValueError\n",
    "        If the pdb_input is neither a valid PDB ID nor a local PDB file path.\n",
    "        If there was an error reading the local PDB file or parsing the PDB content.\n",
    "        If there was an error downloading the PDB file from the RCSB PDB web service.\n",
    "\n",
    "    \"\"\"\n",
    "\n",
    "    # Check if the input is a local file path\n",
    "    if os.path.isfile(pdb_input) and pdb_input.endswith(\".pdb\"):\n",
    "        try:\n",
    "            # Ignore warnings about discontinuous chains\n",
    "            with warnings.catch_warnings():\n",
    "                warnings.simplefilter(\n",
    "                    \"ignore\", category=Bio.PDB.PDBExceptions.PDBConstructionWarning\n",
    "                )\n",
    "                structure = Bio.PDB.PDBParser().get_structure(pdb_input[:-4], pdb_input)\n",
    "        except Exception as e:\n",
    "            raise ValueError(f\"Error reading PDB file {pdb_input}: {e}\")\n",
    "    elif len(pdb_input) == 4 and pdb_input.isalnum():  # Check for a valid PDB ID format\n",
    "        # Try to fetch the structure from RCSB PDB\n",
    "        response = requests.get(f\"https://files.rcsb.org/download/{pdb_input}.cif\")\n",
    "        if response.status_code == 200:\n",
    "            try:\n",
    "                pdb_file_content = StringIO(response.text)\n",
    "                # Ignore warnings about discontinuous chains\n",
    "                with warnings.catch_warnings():\n",
    "                    warnings.simplefilter(\n",
    "                        \"ignore\", category=Bio.PDB.PDBExceptions.PDBConstructionWarning\n",
    "                    )\n",
    "                    structure = Bio.PDB.MMCIFParser().get_structure(\n",
    "                        pdb_input, pdb_file_content\n",
    "                    )\n",
    "            except Exception as e:\n",
    "                raise ValueError(f\"Error parsing PDB content for {pdb_input}: {e}\")\n",
    "        else:\n",
    "            raise ValueError(\n",
    "                f\"Failed to download {pdb_input} from the RCSB database. Status code: {response.status_code}\"\n",
    "            )\n",
    "    else:\n",
    "        raise ValueError(\n",
    "            f\"Invalid input: {pdb_input}. Please provide a valid PDB ID or a local PDB file path.\"\n",
    "        )\n",
    "\n",
    "    return structure"
   ]
  },
  {
   "cell_type": "code",
   "execution_count": 24,
   "id": "447568f8",
   "metadata": {},
   "outputs": [],
   "source": [
    "def get_structure_sequence(structure):\n",
    "    \"\"\"Get the sequence and index for chains in a given structure\"\"\"\n",
    "        \n",
    "    # Get the sequence for each chain (assuming a single model)\n",
    "    structure_seqs = {}\n",
    "    for model in structure:\n",
    "        for chain in model:\n",
    "            sequence = \"\"\n",
    "            indices = []\n",
    "\n",
    "            for residue in chain:\n",
    "                if Bio.PDB.is_aa(residue):  \n",
    "                    sequence += seq1(residue.get_resname())\n",
    "                    indices.append(residue.id[1])  \n",
    "                    \n",
    "            structure_seqs[chain.id] = [sequence, indices]\n",
    "            \n",
    "    return structure_seqs\n"
   ]
  },
  {
   "cell_type": "code",
   "execution_count": 29,
   "id": "f55dd825",
   "metadata": {},
   "outputs": [],
   "source": [
    "def make_aligned_sitemap(protein, offset, sitemap, outpath, chains = None):\n",
    "    \"\"\"Offset and check the index of the reference sequence in the sitemap.\"\"\"\n",
    "    \n",
    "    # Load the structure into a BioPython object\n",
    "    structure = get_structure(structures[protein])\n",
    "    # Get the sequence and index for each chain in the PDB\n",
    "    structure_sequences = get_structure_sequence(structure)\n",
    "    # Get the current wildtype residue at each site\n",
    "    protein_df = proteins[protein][['site', 'wildtype']].drop_duplicates().reset_index(drop=True)\n",
    "    # Load in the sitemap for this protein\n",
    "    sitemap_df = pd.read_csv(sitemap)\n",
    "    \n",
    "    # Only get the sequence for the included chains\n",
    "    for chain, values in structure_sequences.items(): \n",
    "        if chains is None or chain in chains:\n",
    "            indices = values[1]\n",
    "            sequence = values[0]\n",
    "            \n",
    "    # Get the indicies and sequence for the data and structure\n",
    "    structure_seq = dict(zip([i for i in indices], sequence))\n",
    "    data_seq = dict(zip(protein_df['site'], protein_df['wildtype']))\n",
    "    \n",
    "    protein_sites = []\n",
    "    after_offset = []\n",
    "    # Use this index by updating the protein_site column of the sitemap dataframe\n",
    "    for site, res in data_seq.items():\n",
    "        index = site + offset\n",
    "        if index in structure_seq.keys():\n",
    "            after_offset.append(res == structure_seq[index])\n",
    "            # Add to protein_site column \n",
    "            protein_sites.append(index)\n",
    "        else:\n",
    "            # Add a nonsense value\n",
    "            protein_sites.append(-1000)\n",
    "            \n",
    "    print(f\"{sum(after_offset) / len(after_offset) * 100}% match after offset.\")\n",
    "\n",
    "    sitemap_df['protein_site'] = protein_sites\n",
    "\n",
    "    sitemap_df.to_csv(outpath, index=False)\n",
    "\n"
   ]
  },
  {
   "cell_type": "markdown",
   "id": "8163dbf4",
   "metadata": {},
   "source": [
    "### Envelope (E)\n",
    "\n",
    "Position 1 in the structure is equivalent to position 8 in the data. "
   ]
  },
  {
   "cell_type": "code",
   "execution_count": 30,
   "id": "16135189",
   "metadata": {},
   "outputs": [
    {
     "name": "stdout",
     "output_type": "stream",
     "text": [
      "100.0% match after offset.\n"
     ]
    }
   ],
   "source": [
    "make_aligned_sitemap(\"E\", offset = -7, sitemap = \"../results/dms-viz/E/E_sitemap.csv\", outpath = \"../results/dms-viz/E/E_sitemap.csv\", chains = None)\n"
   ]
  },
  {
   "cell_type": "markdown",
   "id": "0b30c240",
   "metadata": {},
   "source": [
    "### Nsp1\n",
    "\n",
    "Position 5 in the structure is equivalent to position 15 in the data."
   ]
  },
  {
   "cell_type": "code",
   "execution_count": 31,
   "id": "16d5a700",
   "metadata": {},
   "outputs": [
    {
     "name": "stdout",
     "output_type": "stream",
     "text": [
      "100.0% match after offset.\n"
     ]
    }
   ],
   "source": [
    "make_aligned_sitemap(\"nsp1\", offset = -9, sitemap = \"../results/dms-viz/nsp1/nsp1_sitemap.csv\", outpath = \"../results/dms-viz/nsp1/nsp1_sitemap.csv\", chains = None)\n"
   ]
  },
  {
   "cell_type": "markdown",
   "id": "83a43508",
   "metadata": {},
   "source": [
    "### Nsp 3\n",
    "\n",
    "Position 1 in the structure is equivalent to position 746 in the data."
   ]
  },
  {
   "cell_type": "code",
   "execution_count": 32,
   "id": "372db4c5",
   "metadata": {},
   "outputs": [
    {
     "name": "stdout",
     "output_type": "stream",
     "text": [
      "99.68051118210862% match after offset.\n"
     ]
    }
   ],
   "source": [
    "make_aligned_sitemap(\"nsp3\", offset = -745, sitemap = \"../results/dms-viz/nsp3/nsp3_sitemap.csv\", outpath = \"../results/dms-viz/nsp3/nsp3_sitemap.csv\", chains = [\"A\"])\n"
   ]
  },
  {
   "cell_type": "markdown",
   "id": "a651ac9c",
   "metadata": {},
   "source": [
    "### Nsp 15\n",
    "\n",
    "Position 2 in the structure is equivalent to position 1 in the data"
   ]
  },
  {
   "cell_type": "code",
   "execution_count": 35,
   "id": "7a60f523",
   "metadata": {},
   "outputs": [
    {
     "name": "stdout",
     "output_type": "stream",
     "text": [
      "100.0% match after offset.\n"
     ]
    }
   ],
   "source": [
    "make_aligned_sitemap(\"nsp15\", offset = 1, sitemap = \"../results/dms-viz/nsp15/nsp15_sitemap.csv\", outpath = \"../results/dms-viz/nsp15/nsp15_sitemap.csv\", chains = [\"A\"])\n"
   ]
  },
  {
   "cell_type": "markdown",
   "id": "8880f37b",
   "metadata": {},
   "source": [
    "### Nsp 16\n",
    "\n",
    "Position 6799 in the structure is equivalent to position 1 in the data"
   ]
  },
  {
   "cell_type": "code",
   "execution_count": 36,
   "id": "5733791c",
   "metadata": {},
   "outputs": [
    {
     "name": "stdout",
     "output_type": "stream",
     "text": [
      "100.0% match after offset.\n"
     ]
    }
   ],
   "source": [
    "make_aligned_sitemap(\"nsp16\", offset = 6798, sitemap = \"../results/dms-viz/nsp16/nsp16_sitemap.csv\", outpath = \"../results/dms-viz/nsp16/nsp16_sitemap.csv\", chains = [\"A\"])\n"
   ]
  }
 ],
 "metadata": {
  "kernelspec": {
   "display_name": "Python [conda env:dms-viz] *",
   "language": "python",
   "name": "conda-env-dms-viz-py"
  },
  "language_info": {
   "codemirror_mode": {
    "name": "ipython",
    "version": 3
   },
   "file_extension": ".py",
   "mimetype": "text/x-python",
   "name": "python",
   "nbconvert_exporter": "python",
   "pygments_lexer": "ipython3",
   "version": "3.10.11"
  }
 },
 "nbformat": 4,
 "nbformat_minor": 5
}
