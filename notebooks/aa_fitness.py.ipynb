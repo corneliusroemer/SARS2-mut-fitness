{
 "cells": [
  {
   "cell_type": "markdown",
   "id": "61b0caed-473e-4904-95de-d07f0ede0b7c",
   "metadata": {},
   "source": [
    "# Estimate amino-acid fitness values aggregated across clades\n",
    "\n",
    "## Explanation of what this notebook is doing\n",
    "For each clade have estimated the change in fitness $\\Delta f_{xy}$ caused by mutating a site from amino-acid $x$ to $y$, where $x$ is the amino acid in the clade founder sequence.\n",
    "For each such mutation, we also have $n_{xy}$ which is the number of **expected** mutations from the clade founder amino acid $x$ to $y$.\n",
    "These $n_{xy}$ values are important because they give some estimate of our \"confidence\" in the $\\Delta f_{xy}$ values: if a mutation has high expected counts (large $n_{xy}$) then we can estimate the change in fitness caused by the mutation more accurately, and if $n_{xy}$ is small then the estimate will be much noisier.\n",
    "\n",
    "However, we would like to aggregate the data across multiple clades to estimate amino-acid fitness values at a site under the assumption that these are constant across clades.\n",
    "Now things get more complicated.\n",
    "For instance, let's say at our site of interest, the clade founder amino acid is $x$ in one clade and $z$ in another clade.\n",
    "For each clade we then have a set of $\\Delta f_{xy}$ and $n_{xy}$ values for the first clade (where $y$ ranges over the 19 amino acids that aren't $x$), and another set of up to 19 $\\Delta f_{zy}$ and $n_{zy}$ values for the second clade (where $y$ ranges over the 19 amino acids that aren't $z$).\n",
    "\n",
    "From these sets of mutation fitness changes, we'd like to estimate the fitness $f_x$ of each amino acid $x$, where the $f_x$ values satisfy $\\Delta f_{xy} = f_y - f_x$ (in other words, a higher $f_x$ means higher fitness of that amino acid).\n",
    "When there are multiple clades with different founder amino acids at the site, there is no guarantee that we can find $f_x$ values that precisely satisfy the above equation since there are more $\\Delta f_{xy}$ values than $f_x$ values and the $\\Delta f_{xy}$ values may have noise (and is some cases even real shifts among clades due to epistasis).\n",
    "Nonetheless, we can try to find the $f_x$ values that come closest to satisfying the above equation.\n",
    "\n",
    "First, we choose one amino acid to have a fitness value of zero, since the scale of the $f_x$ values is arbitrary and there are really only 19 unique parameters among the 20 $f_x$ values (since we only measure differences among them, not absolute values).\n",
    "Typically if there was just one clade, we would set the wildtype value of $f_x = 0$ and then for mutations to all other amino acids $y$ we would simply have $f_y = \\Delta f_{xy}$.\n",
    "However, when there are multple clades with different founder amino acids, there is no longer a well defined \"wildtype\".\n",
    "So we choose the most common parental amino-acid for the observed mutations and set that to zero.\n",
    "In other words, we find $x$ that maximizes $\\sum_y n_{xy}$ and set that $f_x$ value to zero.\n",
    "\n",
    "Next, we choose the $f_x$ values that most closely match the measured mutation effects, weighting more strongly mutation effects with higher expected counts (since these should be more accurate).\n",
    "Specifically, we define a loss function as\n",
    "$$\n",
    "L = \\sum_x \\sum_{y \\ne x} n_{xy} \\left(\\Delta f_{xy} - \\left[f_y - f_x\\right]\\right)^2\n",
    "$$\n",
    "where we ignore effects of synonymous mutations (the $x \\ne y$ term in second summand) because we are only examining protein-level effects.\n",
    "We then use numerical optimization to find the $f_x$ values that minimize that loss $L$.\n",
    "\n",
    "Finally, we would still like to report an equivalent of the $n_{xy}$ values for the $\\Delta f_{xy}$ values that give us some sense of how accurately we have estimated the fitness $f_x$ of each amino acid.\n",
    "To do that, we tabulate $N_x = \\sum_y \\left(n_{xy} + n_{yx} \\right)$ as the total number of mutations either from or to amino-acid $x$ as the \"count\" for the amino acid.\n",
    "Amino acids with larger values of $N_x$ should have more accurate estimates of $f_x$."
   ]
  },
  {
   "cell_type": "markdown",
   "id": "ffeb8d99-b6f3-4d1f-b60d-fd33c7dc496b",
   "metadata": {},
   "source": [
    "## Implementation of calculation\n",
    "\n",
    "Get variables from `snakemake`:"
   ]
  },
  {
   "cell_type": "code",
   "execution_count": null,
   "id": "b6c551ff-5ef5-4871-9566-5c910cfbecc9",
   "metadata": {},
   "outputs": [],
   "source": [
    "# from snakemake \n",
    "aamut_fitness_csv = snakemake.input.aamut_fitness\n",
    "aa_fitness_csv = snakemake.output.aa_fitness\n",
    "\n",
    "# manually defined for debugging\n",
    "# aamut_fitness_csv = \"../results/aa_fitness/aamut_fitness_all.csv\""
   ]
  },
  {
   "cell_type": "markdown",
   "id": "e8520459-dda9-482e-a111-43fb31928e7f",
   "metadata": {},
   "source": [
    "Import Python modules:"
   ]
  },
  {
   "cell_type": "code",
   "execution_count": null,
   "id": "70cb9a51-fdcd-4170-aa43-8b038d71e7e0",
   "metadata": {
    "tags": []
   },
   "outputs": [],
   "source": [
    "import numpy\n",
    "\n",
    "import pandas as pd\n",
    "\n",
    "import scipy.optimize"
   ]
  },
  {
   "cell_type": "markdown",
   "id": "9c5b4020-8ef7-4607-af7a-287f765a6eb5",
   "metadata": {},
   "source": [
    "We read the amino-acid mutation fitnesses, **ignoring** synonymous mutations:"
   ]
  },
  {
   "cell_type": "code",
   "execution_count": null,
   "id": "32a5af08-e40c-4844-a111-7313039a4936",
   "metadata": {
    "tags": []
   },
   "outputs": [],
   "source": [
    "aamut_fitness = pd.read_csv(aamut_fitness_csv).query(\"clade_founder_aa != mutant_aa\")\n",
    "\n",
    "aamut_fitness"
   ]
  },
  {
   "cell_type": "code",
   "execution_count": null,
   "id": "38915457-446e-4fd2-9a54-4c68194bf47d",
   "metadata": {
    "tags": []
   },
   "outputs": [],
   "source": [
    "def get_aa_fitness(site_df):\n",
    "    \"\"\"Estimates fitness of amino acids at site in a gene.\"\"\"\n",
    "    assert site_df[\"gene\"].nunique() == 1\n",
    "    gene = site_df[\"gene\"].unique()[0]\n",
    "    \n",
    "    assert site_df[\"aa_site\"].nunique() == 1\n",
    "    site = site_df[\"aa_site\"].unique()[0]\n",
    "    \n",
    "    assert len(site_df) == len(site_df.groupby([\"clade_founder_aa\", \"mutant_aa\"]))\n",
    "    \n",
    "    # if there is just one clade founder x, then f_y = Delta f_xy,\n",
    "    # and n_y = n_xy for y != x and n_x = sum_y n_xy.\n",
    "    if site_df[\"clade_founder_aa\"].nunique() == 1:\n",
    "        return pd.concat(\n",
    "            [\n",
    "                (\n",
    "                    site_df\n",
    "                    .rename(\n",
    "                        columns={\n",
    "                            \"mutant_aa\": \"aa\",\n",
    "                            \"expected_count\": \"count\",\n",
    "                            \"delta_fitness\": \"fitness\",\n",
    "                        }\n",
    "                    )\n",
    "                    [[\"gene\", \"aa_site\", \"aa\", \"fitness\", \"count\"]]\n",
    "                ),\n",
    "                pd.DataFrame(\n",
    "                    {\n",
    "                        \"gene\": [gene],\n",
    "                        \"aa_site\": [site],\n",
    "                        \"aa\": site_df[\"clade_founder_aa\"].unique(),\n",
    "                        \"fitness\": [0.0],\n",
    "                        \"count\": [site_df[\"expected_count\"].sum()]\n",
    "                    }\n",
    "                )\n",
    "            ],\n",
    "        ).assign(aa_differs_among_clade_founders=False)\n",
    "    \n",
    "    # If we get here, there are multiple clade founders and we need to solve for f_x.\n",
    "    # The code below is highly inefficient in terms of speed, but is fast enough\n",
    "    # for current purposes.\n",
    "    \n",
    "    # first get counts of each amino-acid and the highest count one for which\n",
    "    # we set f_x to zero\n",
    "    count_df = (\n",
    "        site_df\n",
    "        .rename(columns={\"clade_founder_aa\": \"aa\"})\n",
    "        .groupby(\"aa\", as_index=False)\n",
    "        .aggregate(count_1=pd.NamedAgg(\"expected_count\", \"sum\"))\n",
    "        .merge(\n",
    "            site_df\n",
    "            .rename(columns={\"mutant_aa\": \"aa\"})\n",
    "            .groupby(\"aa\", as_index=False)\n",
    "            .aggregate(count_2=pd.NamedAgg(\"expected_count\", \"sum\")),\n",
    "            how=\"outer\",\n",
    "            on=\"aa\",\n",
    "        )\n",
    "        .fillna(0)\n",
    "        .assign(count=lambda x: x[\"count_1\"] + x[\"count_2\"])\n",
    "        .sort_values(\"count\")\n",
    "    )\n",
    "    counts = count_df.set_index(\"aa\")[\"count\"].to_dict()\n",
    "    highest_count_aa = count_df[\"aa\"].tolist()[-1]\n",
    "    aas = count_df[\"aa\"].tolist()[: -1]  # all but highest count\n",
    "    \n",
    "    parent_aas = site_df[\"clade_founder_aa\"].unique()\n",
    "    mutant_aas = site_df[\"mutant_aa\"].unique()\n",
    "    # keyed by (parent_aa, mutant_aa)\n",
    "    site_dict = (\n",
    "        site_df\n",
    "        .set_index([\"clade_founder_aa\", \"mutant_aa\"])\n",
    "        [[\"expected_count\", \"delta_fitness\"]]\n",
    "        .to_dict(orient=\"index\")\n",
    "    )\n",
    "    \n",
    "    def loss(f_vec):\n",
    "        f_aa = dict(zip(aas, f_vec))\n",
    "        f_aa[highest_count_aa] = 0\n",
    "        loss_val = 0.0\n",
    "        for parent_aa in parent_aas:\n",
    "            f_parent = f_aa[parent_aa]\n",
    "            for mutant_aa in mutant_aas:\n",
    "                try:\n",
    "                    delta_f = site_dict[(parent_aa, mutant_aa)][\"delta_fitness\"]\n",
    "                    n = site_dict[(parent_aa, mutant_aa)][\"expected_count\"]\n",
    "                except KeyError:\n",
    "                    continue\n",
    "                f_mutant = f_aa[mutant_aa]\n",
    "                loss_val += n * (delta_f - (f_mutant - f_parent))**2\n",
    "        return loss_val\n",
    "    \n",
    "    opt_res = scipy.optimize.minimize(loss, numpy.zeros(len(aas)), method=\"Powell\")\n",
    "    assert opt_res.success, f\"{opt_res}\\n\\n{site_df}\"\n",
    "    \n",
    "    fs = dict(zip(aas, opt_res.x))\n",
    "    fs[highest_count_aa] = 0\n",
    "    assert list(fs.keys()) == list(counts.keys())\n",
    "\n",
    "    return pd.DataFrame(\n",
    "        {\n",
    "            \"gene\": gene,\n",
    "            \"aa_site\": site,\n",
    "            \"aa\": fs.keys(),\n",
    "            \"fitness\": fs.values(),\n",
    "            \"count\": counts.values(),\n",
    "            \"aa_differs_among_clade_founders\": True,\n",
    "        }\n",
    "    )\n",
    "\n",
    "\n",
    "site_dfs = []\n",
    "for i, ((gene, site), site_df) in enumerate(aamut_fitness.groupby([\"gene\", \"aa_site\"])):\n",
    "    site_dfs.append(get_aa_fitness(site_df))\n",
    "    if i % 500 == 0:\n",
    "        print(f\"Completed optimization {i + 1}\")\n",
    "print(f\"Completed all {i + 1} optimizations.\")\n",
    "\n",
    "fitness_df = (\n",
    "    pd.concat(site_dfs)\n",
    "    .merge(aamut_fitness[[\"gene\", \"subset_of_ORF1ab\"]].drop_duplicates())\n",
    "    .sort_values([\"gene\", \"aa_site\", \"aa\"])\n",
    "    .reset_index(drop=True)\n",
    ")\n",
    "\n",
    "assert len(fitness_df) == len(fitness_df.groupby([\"gene\", \"aa_site\", \"aa\"]))\n",
    "\n",
    "fitness_df"
   ]
  },
  {
   "cell_type": "markdown",
   "id": "aa18398b-de8b-4f63-98d5-b0d7d1619275",
   "metadata": {},
   "source": [
    "Look at how many sites have changed in clade founders:"
   ]
  },
  {
   "cell_type": "code",
   "execution_count": null,
   "id": "930136bf-fa4f-4f16-ae4f-3ff77076dc0f",
   "metadata": {
    "tags": []
   },
   "outputs": [],
   "source": [
    "(\n",
    "    fitness_df\n",
    "    .query(\"not subset_of_ORF1ab\")\n",
    "    .groupby([\"gene\", \"aa_differs_among_clade_founders\"], as_index=False)\n",
    "    .aggregate(n_sites=pd.NamedAgg(\"aa_site\", \"nunique\"))\n",
    "    .pivot_table(\n",
    "        index=\"gene\",\n",
    "        columns=\"aa_differs_among_clade_founders\",\n",
    "        values=\"n_sites\",\n",
    "    )\n",
    "    .assign(percent_that_differ=lambda x: 100 * x[True] / (x[False] + x[True]))\n",
    "    .round(1)\n",
    ")"
   ]
  },
  {
   "cell_type": "markdown",
   "id": "ee0be75d-8bdd-4a18-98f5-e82b926a49f5",
   "metadata": {},
   "source": [
    "Now we compare the amino-acid fitness estimates to the mutation delta fitness values.\n",
    "First do this for all sites where the clade founders share a wildtype.\n",
    "This correlation should be exactly one:"
   ]
  },
  {
   "cell_type": "code",
   "execution_count": null,
   "id": "4aa1d70e-a021-4bec-a13f-5ba5f4183bcb",
   "metadata": {},
   "outputs": [],
   "source": [
    "one_founder_corrs = (\n",
    "    fitness_df\n",
    "    .query(\"not aa_differs_among_clade_founders\")\n",
    "    .query(\"not subset_of_ORF1ab\")\n",
    "    [[\"gene\", \"aa_site\", \"aa\", \"fitness\"]]\n",
    "    .merge(\n",
    "        aamut_fitness\n",
    "        [[\"gene\", \"mutant_aa\", \"aa_site\", \"delta_fitness\"]]\n",
    "        .rename(columns={\"mutant_aa\": \"aa\"}),\n",
    "    )\n",
    "    [[\"fitness\", \"delta_fitness\"]]\n",
    "    .corr()\n",
    ")\n",
    "\n",
    "assert (one_founder_corrs.values == 1).all()\n",
    "\n",
    "one_founder_corrs"
   ]
  },
  {
   "cell_type": "markdown",
   "id": "6efccb9a-5582-424e-ae38-6e73a6b25e66",
   "metadata": {},
   "source": [
    "Now get the correlations for sites with multiple clade founders.\n",
    "To do this, we adjust the $\\Delta f_{xy}$ values by the clade founder fitnesses.\n",
    "Now we expect the correlations to be good, but not necessarily quite one.\n",
    "They should be better for the case where the clade founder is the most abundant one as those weigh higher in the amino-acid fitness estimates:"
   ]
  },
  {
   "cell_type": "code",
   "execution_count": null,
   "id": "70821636-d4a2-4444-bea1-e5837fc8c01d",
   "metadata": {},
   "outputs": [],
   "source": [
    "multi_founder_corrs = (\n",
    "    fitness_df\n",
    "    .query(\"aa_differs_among_clade_founders\")\n",
    "    .query(\"not subset_of_ORF1ab\")\n",
    "    .drop(columns=[\"aa_differs_among_clade_founders\", \"subset_of_ORF1ab\"])\n",
    "    .merge(\n",
    "        aamut_fitness\n",
    "        [[\"gene\", \"clade_founder_aa\", \"mutant_aa\", \"aa_site\", \"delta_fitness\"]]\n",
    "        .rename(columns={\"mutant_aa\": \"aa\"})\n",
    "    )\n",
    "    .merge(\n",
    "        fitness_df[[\"gene\", \"aa_site\", \"aa\", \"fitness\"]]\n",
    "        .rename(columns={\"aa\": \"clade_founder_aa\", \"fitness\": \"clade_founder_fitness\"})\n",
    "    )\n",
    "    .assign(\n",
    "        most_abundant_clade_founder=lambda x: x[\"clade_founder_fitness\"] == 0,\n",
    "        adjusted_delta_fitness=lambda x: x[\"delta_fitness\"] + x[\"clade_founder_fitness\"],\n",
    "    )\n",
    "    .groupby(\"most_abundant_clade_founder\")\n",
    "    [[\"fitness\", \"adjusted_delta_fitness\"]]\n",
    "    .corr()\n",
    ")\n",
    "\n",
    "assert (one_founder_corrs.values >= 0.85).all()\n",
    "\n",
    "multi_founder_corrs.round(3)"
   ]
  },
  {
   "cell_type": "markdown",
   "id": "7cda270b-928c-4c1c-b56a-80b8d3504320",
   "metadata": {},
   "source": [
    "Write the values to a file:"
   ]
  },
  {
   "cell_type": "code",
   "execution_count": null,
   "id": "9c71f6fb-8441-4f98-967d-5e6ecf723b22",
   "metadata": {},
   "outputs": [],
   "source": [
    "print(f\"Writing to {aa_fitness_csv}\")\n",
    "\n",
    "fitness_df.to_csv(aa_fitness_csv, index=False, float_format=\"%.5g\")"
   ]
  },
  {
   "cell_type": "code",
   "execution_count": null,
   "id": "f7edecb9-64b5-4d6b-b923-cd63baac381f",
   "metadata": {},
   "outputs": [],
   "source": []
  }
 ],
 "metadata": {
  "kernelspec": {
   "display_name": "Python 3 (ipykernel)",
   "language": "python",
   "name": "python3"
  },
  "language_info": {
   "codemirror_mode": {
    "name": "ipython",
    "version": 3
   },
   "file_extension": ".py",
   "mimetype": "text/x-python",
   "name": "python",
   "nbconvert_exporter": "python",
   "pygments_lexer": "ipython3",
   "version": "3.9.15"
  }
 },
 "nbformat": 4,
 "nbformat_minor": 5
}
