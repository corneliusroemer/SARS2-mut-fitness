{
 "cells": [
  {
   "cell_type": "markdown",
   "id": "61b0caed-473e-4904-95de-d07f0ede0b7c",
   "metadata": {},
   "source": [
    "# Estimate amino-acid fitness values aggregated across clades\n",
    "\n",
    "## Explanation of what this notebook is doing\n",
    "For each clade have estimated the change in fitness $\\Delta f_{xy}$ caused by mutating a site from amino-acid $x$ to $y$, where $x$ is the amino acid in the clade founder sequence.\n",
    "For each such mutation, we also have $n_{xy}$ which is the number of **expected** mutations from the clade founder amino acid $x$ to $y$.\n",
    "These $n_{xy}$ values are important because they give some estimate of our \"confidence\" in the $\\Delta f_{xy}$ values: if a mutation has high expected counts (large $n_{xy}$) then we can estimate the change in fitness caused by the mutation more accurately, and if $n_{xy}$ is small then the estimate will be much noisier.\n",
    "\n",
    "However, we would like to aggregate the data across multiple clades to estimate amino-acid fitness values at a site under the assumption that these are constant across clades.\n",
    "Now things get more complicated.\n",
    "For instance, let's say at our site of interest, the clade founder amino acid is $x$ in one clade and $z$ in another clade.\n",
    "For each clade we then have a set of $\\Delta f_{xy}$ and $n_{xy}$ values for the first clade (where $y$ ranges over the 19 amino acids that aren't $x$), and another set of up to 19 $\\Delta f_{zy}$ and $n_{zy}$ values for the second clade (where $y$ ranges over the 19 amino acids that aren't $z$).\n",
    "\n",
    "From these sets of mutation fitness changes, we'd like to estimate the fitness $f_x$ of each amino acid $x$, where the $f_x$ values satisfy $\\Delta f_{xy} = f_y - f_x$ (in other words, a higher $f_x$ means higher fitness of that amino acid).\n",
    "When there are multiple clades with different founder amino acids at the site, there is no guarantee that we can find $f_x$ values that precisely satisfy the above equation since there are more $\\Delta f_{xy}$ values than $f_x$ values and the $\\Delta f_{xy}$ values may have noise (and is some cases even real shifts among clades due to epistasis).\n",
    "Nonetheless, we can try to find the $f_x$ values that come closest to satisfying the above equation.\n",
    "\n",
    "First, we choose one amino acid to have a fitness value of zero, since the scale of the $f_x$ values is arbitrary and there are really only 19 unique parameters among the 20 $f_x$ values (since we only measure differences among them, not absolute values).\n",
    "Typically if there was just one clade, we would set the wildtype value of $f_x = 0$ and then for mutations to all other amino acids $y$ we would simply have $f_y = \\Delta f_{xy}$.\n",
    "However, when there are multple clades with different founder amino acids, there is no longer a well defined \"wildtype\".\n",
    "So we choose the most common parental amino-acid for the observed mutations and set that to zero.\n",
    "In other words, we find $x$ that maximizes $\\sum_y n_{xy}$ and set that $f_x$ value to zero.\n",
    "\n",
    "Next, we choose the $f_x$ values that most closely match the measured mutation effects, weighting more strongly mutation effects with higher expected counts (since these should be more accurate).\n",
    "Specifically, we define a loss function as\n",
    "$$\n",
    "L = \\sum_x \\sum_{y \\ne x} n_{xy} \\left(\\Delta f_{xy} - \\left[f_y - f_x\\right]\\right)^2\n",
    "$$\n",
    "where we ignore effects of synonymous mutations (the $x \\ne y$ term in second summand) because we are only examining protein-level effects.\n",
    "We then use numerical optimization to find the $f_x$ values that minimize that loss $L$.\n",
    "\n",
    "Finally, we would still like to report an equivalent of the $n_{xy}$ values for the $\\Delta f_{xy}$ values that give us some sense of how accurately we have estimated the fitness $f_x$ of each amino acid.\n",
    "To do that, we tabulate $N_x = \\sum_y \\left(n_{xy} + n_{yx} \\right)$ as the total number of mutations either from or to amino-acid $x$ as the \"expected counts\" for the amino acid.\n",
    "Amino acids with larger values of $N_x$ should have more accurate estimates of $f_x$."
   ]
  },
  {
   "cell_type": "markdown",
   "id": "ffeb8d99-b6f3-4d1f-b60d-fd33c7dc496b",
   "metadata": {},
   "source": [
    "## Implementation of calculation\n",
    "\n",
    "Get variables from `snakemake`:"
   ]
  },
  {
   "cell_type": "code",
   "execution_count": 2,
   "id": "b6c551ff-5ef5-4871-9566-5c910cfbecc9",
   "metadata": {},
   "outputs": [],
   "source": [
    "# from snakemake \n",
    "# aamut_fitness_csv = snakemake.input.aamut_fitness\n",
    "# aa_fitness_csv = snakemake.output.aa_fitness\n",
    "\n",
    "# manually defined for debugging\n",
    "aamut_fitness_csv = \"../results/aa_fitness/aamut_fitness_all.csv\""
   ]
  },
  {
   "cell_type": "markdown",
   "id": "e8520459-dda9-482e-a111-43fb31928e7f",
   "metadata": {},
   "source": [
    "Import Python modules:"
   ]
  },
  {
   "cell_type": "code",
   "execution_count": 3,
   "id": "70cb9a51-fdcd-4170-aa43-8b038d71e7e0",
   "metadata": {},
   "outputs": [],
   "source": [
    "import pandas as pd"
   ]
  },
  {
   "cell_type": "code",
   "execution_count": null,
   "id": "32a5af08-e40c-4844-a111-7313039a4936",
   "metadata": {},
   "outputs": [],
   "source": []
  }
 ],
 "metadata": {
  "kernelspec": {
   "display_name": "Python 3 (ipykernel)",
   "language": "python",
   "name": "python3"
  },
  "language_info": {
   "codemirror_mode": {
    "name": "ipython",
    "version": 3
   },
   "file_extension": ".py",
   "mimetype": "text/x-python",
   "name": "python",
   "nbconvert_exporter": "python",
   "pygments_lexer": "ipython3",
   "version": "3.9.13"
  }
 },
 "nbformat": 4,
 "nbformat_minor": 5
}
